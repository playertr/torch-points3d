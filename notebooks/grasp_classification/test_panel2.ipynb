{
 "cells": [
  {
   "cell_type": "code",
   "execution_count": null,
   "metadata": {},
   "outputs": [],
   "source": [
    "from pyvista import demos\n",
    "\n",
    "# basic glyphs demo\n",
    "mesh = demos.glyphs(2)\n",
    "\n",
    "text = demos.logo.text_3d(\"I'm interactive!\", depth=0.2)\n",
    "text.points *= 0.1\n",
    "text.translate([0, 1.4, 1.5])\n",
    "mesh += text\n",
    "mesh['Example Scalars'] = mesh.points[:, 0]\n",
    "\n",
    "mesh.plot(cpos='xy', jupyter_backend='panel', background='white',\n",
    "          show_scalar_bar=True)"
   ]
  },
  {
   "cell_type": "code",
   "execution_count": null,
   "metadata": {},
   "outputs": [],
   "source": [
    "import pyvista as pv\n",
    "sphere = pv.Sphere()\n",
    "\n",
    "plotter = pv.Plotter(notebook=True)\n",
    "plotter.add_mesh(sphere)\n",
    "plotter.show(jupyter_backend='ipygany')"
   ]
  },
  {
   "cell_type": "code",
   "execution_count": null,
   "metadata": {},
   "outputs": [],
   "source": [
    "import pyvista as pv\n",
    "import pyvistaqt as pvqt\n",
    "from pyvista import examples\n",
    "\n",
    "dataset = examples.load_hexbeam()\n",
    "\n",
    "p = pvqt.BackgroundPlotter()\n",
    "\n",
    "p.add_mesh(dataset)\n",
    "\n",
    "p.show_bounds(grid=True, location='back')"
   ]
  },
  {
   "cell_type": "code",
   "execution_count": null,
   "metadata": {},
   "outputs": [],
   "source": [
    "from pyvista import demos\n",
    "demos.plot_logo(background='white', jupyter_backend='panel')"
   ]
  },
  {
   "cell_type": "code",
   "execution_count": null,
   "metadata": {},
   "outputs": [],
   "source": [
    "import pyvista as pv\n",
    "\n",
    "from panel.pane.vtk.vtk import VTKRenderWindowSynchronized"
   ]
  },
  {
   "cell_type": "code",
   "execution_count": null,
   "metadata": {},
   "outputs": [],
   "source": [
    "import panel as pn\n",
    "pn.extension('vtk')\n",
    "\n",
    "import vtk\n",
    "from vtk.util.colors import tomato\n",
    "\n",
    "# This creates a polygonal cylinder model with eight circumferential\n",
    "# facets.\n",
    "cylinder = vtk.vtkCylinderSource()\n",
    "cylinder.SetResolution(8)\n",
    "\n",
    "# The mapper is responsible for pushing the geometry into the graphics\n",
    "# library. It may also do color mapping, if scalars or other\n",
    "# attributes are defined.\n",
    "cylinderMapper = vtk.vtkPolyDataMapper()\n",
    "cylinderMapper.SetInputConnection(cylinder.GetOutputPort())\n",
    "\n",
    "# The actor is a grouping mechanism: besides the geometry (mapper), it\n",
    "# also has a property, transformation matrix, and/or texture map.\n",
    "# Here we set its color and rotate it -22.5 degrees.\n",
    "cylinderActor = vtk.vtkActor()\n",
    "cylinderActor.SetMapper(cylinderMapper)\n",
    "cylinderActor.GetProperty().SetColor(tomato)\n",
    "# We must set ScalarVisibilty to 0 to use tomato Color\n",
    "cylinderMapper.SetScalarVisibility(0)\n",
    "cylinderActor.RotateX(30.0)\n",
    "cylinderActor.RotateY(-45.0)\n",
    "\n",
    "# Create the graphics structure. The renderer renders into the render\n",
    "# window.\n",
    "ren = vtk.vtkRenderer()\n",
    "renWin = vtk.vtkRenderWindow()\n",
    "renWin.AddRenderer(ren)\n",
    "\n",
    "# Add the actors to the renderer, set the background and size\n",
    "ren.AddActor(cylinderActor)\n",
    "ren.SetBackground(0.1, 0.2, 0.4)\n",
    "\n",
    "geom_pane = pn.pane.VTK(renWin, width=500, height=500)\n",
    "\n",
    "geom_pane"
   ]
  },
  {
   "cell_type": "code",
   "execution_count": null,
   "metadata": {},
   "outputs": [],
   "source": [
    "import panel as pn\n",
    "import pyvista as pv\n",
    "from pyvista import examples\n",
    "pn.extension('vtk', sizing_mode=\"stretch_width\")\n",
    "\n",
    "m = examples.download_st_helens().warp_by_scalar()\n",
    "\n",
    "# default camera position\n",
    "cpos = [(567000.9232163235, 5119147.423216323, 6460.423216322832),\n",
    " (562835.0, 5114981.5, 2294.5),\n",
    " (-0.4082482904638299, -0.40824829046381844, 0.8164965809277649)]\n",
    "\n",
    "# pyvista plotter\n",
    "pl = pv.Plotter(notebook=True);\n",
    "actor = pl.add_mesh(m, smooth_shading=True, lighting=True)\n",
    "pl.camera_position = cpos #set camera position\n",
    "\n",
    "# save initial camera properties\n",
    "renderer = list(pl.ren_win.GetRenderers())[0]\n",
    "initial_camera = renderer.GetActiveCamera()\n",
    "initial_camera_pos = {\"focalPoint\": initial_camera.GetFocalPoint(),\n",
    "                      \"position\": initial_camera.GetPosition(),\n",
    "                      \"viewUp\": initial_camera.GetViewUp()}\n",
    "\n",
    "# Panel creation using the VTK Scene created by the plotter pyvista\n",
    "orientation_widget = True\n",
    "enable_keybindings = True\n",
    "vtkpan = pn.panel(pl.ren_win, sizing_mode='stretch_both', orientation_widget=orientation_widget,\n",
    "                  enable_keybindings=enable_keybindings, height=600)\n",
    "vtkpan"
   ]
  },
  {
   "cell_type": "code",
   "execution_count": null,
   "metadata": {},
   "outputs": [],
   "source": [
    "import k3d\n",
    "import numpy as np\n",
    "\n",
    "x = np.random.randn(1000,3).astype(np.float32)\n",
    "point_size = 0.2\n",
    "\n",
    "plot = k3d.plot(name='points')\n",
    "plt_points = k3d.points(positions=x, point_size=0.2)\n",
    "plot += plt_points\n",
    "plt_points.shader='3d'\n",
    "plot.display()"
   ]
  },
  {
   "cell_type": "code",
   "execution_count": null,
   "metadata": {},
   "outputs": [],
   "source": []
  }
 ],
 "metadata": {
  "interpreter": {
   "hash": "134867c5b36f700baaa67a27b0b6dfc99f4165b58a173e2e8d72841bf053541a"
  },
  "kernelspec": {
   "display_name": "Python 3.8.10 64-bit ('gref': conda)",
   "name": "python3"
  },
  "language_info": {
   "codemirror_mode": {
    "name": "ipython",
    "version": 3
   },
   "file_extension": ".py",
   "mimetype": "text/x-python",
   "name": "python",
   "nbconvert_exporter": "python",
   "pygments_lexer": "ipython3",
   "version": "3.8.10"
  }
 },
 "nbformat": 4,
 "nbformat_minor": 4
}
