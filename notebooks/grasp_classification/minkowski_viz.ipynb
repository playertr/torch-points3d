{
 "cells": [
  {
   "cell_type": "code",
   "execution_count": null,
   "metadata": {},
   "outputs": [],
   "source": [
    "import sys\n",
    "DIR = \"/home/tim/Research/torch-points3d/\"\n",
    "sys.path.insert(0, DIR)\n",
    "\n",
    "from torch_points3d.datasets.grasp_classification import acronymvid\n",
    "from torch_points3d.models.grasp_classification import minkowski\n",
    "from torch_points3d.metrics.model_checkpoint import ModelCheckpoint\n",
    "\n",
    "import matplotlib.pyplot as plt\n",
    "import imageio"
   ]
  },
  {
   "cell_type": "code",
   "execution_count": null,
   "metadata": {},
   "outputs": [],
   "source": [
    "# ckpt_dir = \"/home/tim/Research/torch-points3d/outputs/2021-08-04/17-03-22\"\n",
    "# ckpt_dir = \"/home/tim/Research/torch-points3d/outputs/2021-08-04/18-14-55\"\n",
    "ckpt_dir = \"/home/tim/Research/torch-points3d/outputs/2021-08-04/23-53-23\"\n",
    "check_name=\"MinkUNet14A\""
   ]
  },
  {
   "cell_type": "code",
   "execution_count": null,
   "metadata": {},
   "outputs": [],
   "source": [
    "from omegaconf import OmegaConf\n",
    "with open(\"/home/tim/Research/torch-points3d/conf/data/grasp_classification/acronymvid.yaml\") as f:\n",
    "    params = OmegaConf.load(f)"
   ]
  },
  {
   "cell_type": "code",
   "execution_count": null,
   "metadata": {},
   "outputs": [],
   "source": [
    "dataset = acronymvid.AcronymVidDataset(params)"
   ]
  },
  {
   "cell_type": "code",
   "execution_count": null,
   "metadata": {},
   "outputs": [],
   "source": [
    "model_checkpoint = ModelCheckpoint(ckpt_dir, check_name, \"test\", resume=False)\n",
    "\n",
    "model = model_checkpoint.create_model(dataset, weight_name=\"acc\")"
   ]
  },
  {
   "cell_type": "code",
   "execution_count": null,
   "metadata": {},
   "outputs": [],
   "source": [
    "import torch\n",
    "# device = torch.device(\"cpu\")\n",
    "device = torch.device(\"cuda\")"
   ]
  },
  {
   "cell_type": "code",
   "execution_count": null,
   "metadata": {},
   "outputs": [],
   "source": [
    "for i in range(0, 20):\n",
    "    data = dataset.test_dataset[0][i]\n",
    "    model.set_input(data, device)\n",
    "    model.forward()"
   ]
  },
  {
   "cell_type": "code",
   "execution_count": null,
   "metadata": {},
   "outputs": [],
   "source": [
    "i = 45\n",
    "\n",
    "from tqdm import tqdm\n",
    "for i in range(0, 100, 20):\n",
    "    data = dataset.test_dataset[0][i]\n",
    "    model.set_input(data, device)\n",
    "    model.forward()\n",
    "\n",
    "\n",
    "    out = model.output.detach().numpy()\n",
    "    out = (out.reshape(-1, 300, 300) > 0).astype('uint8') * 255\n",
    "\n",
    "    for im in out:\n",
    "        plt.imshow(im)\n",
    "        plt.pause(0.01)\n",
    "\n",
    "    name = check_name + \"\".join(ckpt_dir.split('/')[-2:]) + f\"_{i}.gif\"\n",
    "    imageio.mimsave(f\"figs/preds_{name}\", out)\n",
    "\n",
    "    # gtname = f\"gt_{i}.gif\"\n",
    "    # imageio.mimsave(f\"figs/{gtname}\", data.y.detach().numpy().reshape(-1, 300, 300))"
   ]
  },
  {
   "cell_type": "code",
   "execution_count": null,
   "metadata": {},
   "outputs": [],
   "source": []
  },
  {
   "cell_type": "code",
   "execution_count": null,
   "metadata": {},
   "outputs": [],
   "source": [
    "\n",
    "\n"
   ]
  },
  {
   "cell_type": "code",
   "execution_count": null,
   "metadata": {},
   "outputs": [],
   "source": []
  },
  {
   "cell_type": "code",
   "execution_count": null,
   "metadata": {},
   "outputs": [],
   "source": []
  }
 ],
 "metadata": {
  "interpreter": {
   "hash": "134867c5b36f700baaa67a27b0b6dfc99f4165b58a173e2e8d72841bf053541a"
  },
  "kernelspec": {
   "display_name": "Python 3.8.10 64-bit ('gref': conda)",
   "name": "python3"
  },
  "language_info": {
   "codemirror_mode": {
    "name": "ipython",
    "version": 3
   },
   "file_extension": ".py",
   "mimetype": "text/x-python",
   "name": "python",
   "nbconvert_exporter": "python",
   "pygments_lexer": "ipython3",
   "version": "3.8.10"
  }
 },
 "nbformat": 4,
 "nbformat_minor": 2
}
